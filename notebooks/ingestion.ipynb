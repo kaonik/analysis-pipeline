{
 "cells": [
  {
   "cell_type": "code",
   "execution_count": 1,
   "metadata": {},
   "outputs": [
    {
     "name": "stdout",
     "output_type": "stream",
     "text": [
      "     status  bed  bath  acre_lot        city        state  zip_code  \\\n",
      "0  for_sale  3.0   2.0      0.12    Adjuntas  Puerto Rico     601.0   \n",
      "1  for_sale  4.0   2.0      0.08    Adjuntas  Puerto Rico     601.0   \n",
      "2  for_sale  2.0   1.0      0.15  Juana Diaz  Puerto Rico     795.0   \n",
      "3  for_sale  4.0   2.0      0.10       Ponce  Puerto Rico     731.0   \n",
      "4  for_sale  6.0   2.0      0.05    Mayaguez  Puerto Rico     680.0   \n",
      "\n",
      "   house_size prev_sold_date     price  \n",
      "0       920.0            NaN  105000.0  \n",
      "1      1527.0            NaN   80000.0  \n",
      "2       748.0            NaN   67000.0  \n",
      "3      1800.0            NaN  145000.0  \n",
      "4         NaN            NaN   65000.0  \n"
     ]
    }
   ],
   "source": [
    "import pandas as pd\n",
    "import src.data_ingestion as di\n",
    "\n",
    "df = di.load_csv('../data/realtor-data.csv')\n",
    "print(df.head())"
   ]
  },
  {
   "cell_type": "code",
   "execution_count": 2,
   "metadata": {},
   "outputs": [
    {
     "name": "stdout",
     "output_type": "stream",
     "text": [
      "   forecastid  locationid  temperature  pressure  sealevelpressure  \\\n",
      "0        2410          57        73.72      1016            1016.0   \n",
      "1        2411          57        73.67      1015            1015.0   \n",
      "2        2412          57        74.12      1014            1014.0   \n",
      "3        2413          57        74.35      1016            1016.0   \n",
      "4        2414          57        74.97      1015            1015.0   \n",
      "\n",
      "   groundlevelpressure  humidity  weatherconditionid  cloudiness  windspeed  \\\n",
      "0               1015.0        84                 804         100      18.72   \n",
      "1               1014.0        85                 804         100      16.51   \n",
      "2               1014.0        86                 804          86      13.47   \n",
      "3               1016.0        87                 500          55      12.17   \n",
      "4               1015.0        87                 500          52       9.19   \n",
      "\n",
      "   winddirection  visibility  precipitationchance        timestampiso  \n",
      "0             96     10000.0                  0.0 2024-01-15 06:00:00  \n",
      "1            106     10000.0                  0.0 2024-01-15 09:00:00  \n",
      "2            105     10000.0                  0.0 2024-01-15 12:00:00  \n",
      "3             97     10000.0                  0.2 2024-01-15 15:00:00  \n",
      "4             74     10000.0                  0.2 2024-01-15 18:00:00  \n"
     ]
    }
   ],
   "source": [
    "import os\n",
    "\n",
    "# get environment variables\n",
    "DB_NAME = os.getenv('DB_NAME')\n",
    "DB_USER = os.getenv('DB_USER')\n",
    "DB_PASSWORD = os.getenv('DB_PASSWORD')\n",
    "DB_HOST = os.getenv('DB_HOST')\n",
    "OPENWEATHER_API_KEY = os.getenv('OPENWEATHER_API_KEY')\n",
    "\n",
    "query = '''\n",
    "    select * from Forecast\n",
    "    limit 1000;\n",
    "'''\n",
    "\n",
    "sql_df = di.load_from_postgres(DB_NAME, DB_USER, DB_PASSWORD, DB_HOST, query)\n",
    "print(sql_df.head())"
   ]
  },
  {
   "cell_type": "code",
   "execution_count": 4,
   "metadata": {},
   "outputs": [
    {
     "name": "stdout",
     "output_type": "stream",
     "text": [
      "{'cod': '200', 'message': 0, 'cnt': 40, 'list': [{'dt': 1706378400, 'main': {'temp': 82.74, 'feels_like': 87.62, 'temp_min': 82.74, 'temp_max': 82.74, 'pressure': 1011, 'sea_level': 1011, 'grnd_level': 1011, 'humidity': 69, 'temp_kf': 0}, 'weather': [{'id': 800, 'main': 'Clear', 'description': 'clear sky', 'icon': '01d'}], 'clouds': {'all': 2}, 'wind': {'speed': 2.19, 'deg': 164, 'gust': 1.79}, 'visibility': 10000, 'pop': 0, 'sys': {'pod': 'd'}, 'dt_txt': '2024-01-27 18:00:00'}, {'dt': 1706389200, 'main': {'temp': 82.63, 'feels_like': 87.66, 'temp_min': 82.42, 'temp_max': 82.63, 'pressure': 1012, 'sea_level': 1012, 'grnd_level': 1013, 'humidity': 70, 'temp_kf': 0.12}, 'weather': [{'id': 800, 'main': 'Clear', 'description': 'clear sky', 'icon': '01n'}], 'clouds': {'all': 2}, 'wind': {'speed': 0.2, 'deg': 358, 'gust': 0.94}, 'visibility': 10000, 'pop': 0, 'sys': {'pod': 'n'}, 'dt_txt': '2024-01-27 21:00:00'}, {'dt': 1706400000, 'main': {'temp': 82.08, 'feels_like': 86.81, 'temp_min': 81.73, 'temp_max': 82.08, 'pressure': 1012, 'sea_level': 1012, 'grnd_level': 1013, 'humidity': 71, 'temp_kf': 0.19}, 'weather': [{'id': 800, 'main': 'Clear', 'description': 'clear sky', 'icon': '01n'}], 'clouds': {'all': 1}, 'wind': {'speed': 1.74, 'deg': 250, 'gust': 1.34}, 'visibility': 10000, 'pop': 0, 'sys': {'pod': 'n'}, 'dt_txt': '2024-01-28 00:00:00'}, {'dt': 1706410800, 'main': {'temp': 80.96, 'feels_like': 85.24, 'temp_min': 80.96, 'temp_max': 80.96, 'pressure': 1011, 'sea_level': 1011, 'grnd_level': 1011, 'humidity': 74, 'temp_kf': 0}, 'weather': [{'id': 800, 'main': 'Clear', 'description': 'clear sky', 'icon': '01n'}], 'clouds': {'all': 7}, 'wind': {'speed': 3.47, 'deg': 238, 'gust': 2.91}, 'visibility': 10000, 'pop': 0, 'sys': {'pod': 'n'}, 'dt_txt': '2024-01-28 03:00:00'}, {'dt': 1706421600, 'main': {'temp': 80.76, 'feels_like': 85.37, 'temp_min': 80.76, 'temp_max': 80.76, 'pressure': 1012, 'sea_level': 1012, 'grnd_level': 1012, 'humidity': 77, 'temp_kf': 0}, 'weather': [{'id': 801, 'main': 'Clouds', 'description': 'few clouds', 'icon': '02n'}], 'clouds': {'all': 21}, 'wind': {'speed': 5.64, 'deg': 215, 'gust': 5.86}, 'visibility': 10000, 'pop': 0, 'sys': {'pod': 'n'}, 'dt_txt': '2024-01-28 06:00:00'}, {'dt': 1706432400, 'main': {'temp': 81.39, 'feels_like': 86.09, 'temp_min': 81.39, 'temp_max': 81.39, 'pressure': 1014, 'sea_level': 1014, 'grnd_level': 1014, 'humidity': 74, 'temp_kf': 0}, 'weather': [{'id': 803, 'main': 'Clouds', 'description': 'broken clouds', 'icon': '04d'}], 'clouds': {'all': 60}, 'wind': {'speed': 5.55, 'deg': 226, 'gust': 5.82}, 'visibility': 10000, 'pop': 0, 'sys': {'pod': 'd'}, 'dt_txt': '2024-01-28 09:00:00'}, {'dt': 1706443200, 'main': {'temp': 82.15, 'feels_like': 86.72, 'temp_min': 82.15, 'temp_max': 82.15, 'pressure': 1013, 'sea_level': 1013, 'grnd_level': 1013, 'humidity': 70, 'temp_kf': 0}, 'weather': [{'id': 802, 'main': 'Clouds', 'description': 'scattered clouds', 'icon': '03d'}], 'clouds': {'all': 36}, 'wind': {'speed': 7.11, 'deg': 212, 'gust': 7.4}, 'visibility': 10000, 'pop': 0, 'sys': {'pod': 'd'}, 'dt_txt': '2024-01-28 12:00:00'}, {'dt': 1706454000, 'main': {'temp': 82.89, 'feels_like': 87.64, 'temp_min': 82.89, 'temp_max': 82.89, 'pressure': 1010, 'sea_level': 1010, 'grnd_level': 1010, 'humidity': 68, 'temp_kf': 0}, 'weather': [{'id': 803, 'main': 'Clouds', 'description': 'broken clouds', 'icon': '04d'}], 'clouds': {'all': 66}, 'wind': {'speed': 10.04, 'deg': 217, 'gust': 10.07}, 'visibility': 10000, 'pop': 0, 'sys': {'pod': 'd'}, 'dt_txt': '2024-01-28 15:00:00'}, {'dt': 1706464800, 'main': {'temp': 82.96, 'feels_like': 88.03, 'temp_min': 82.96, 'temp_max': 82.96, 'pressure': 1012, 'sea_level': 1012, 'grnd_level': 1012, 'humidity': 69, 'temp_kf': 0}, 'weather': [{'id': 802, 'main': 'Clouds', 'description': 'scattered clouds', 'icon': '03d'}], 'clouds': {'all': 39}, 'wind': {'speed': 8.05, 'deg': 224, 'gust': 8.05}, 'visibility': 10000, 'pop': 0, 'sys': {'pod': 'd'}, 'dt_txt': '2024-01-28 18:00:00'}, {'dt': 1706475600, 'main': {'temp': 82.6, 'feels_like': 87.84, 'temp_min': 82.6, 'temp_max': 82.6, 'pressure': 1014, 'sea_level': 1014, 'grnd_level': 1014, 'humidity': 71, 'temp_kf': 0}, 'weather': [{'id': 800, 'main': 'Clear', 'description': 'clear sky', 'icon': '01n'}], 'clouds': {'all': 8}, 'wind': {'speed': 6.62, 'deg': 218, 'gust': 6.49}, 'visibility': 10000, 'pop': 0, 'sys': {'pod': 'n'}, 'dt_txt': '2024-01-28 21:00:00'}, {'dt': 1706486400, 'main': {'temp': 81.97, 'feels_like': 86.81, 'temp_min': 81.97, 'temp_max': 81.97, 'pressure': 1014, 'sea_level': 1014, 'grnd_level': 1014, 'humidity': 72, 'temp_kf': 0}, 'weather': [{'id': 802, 'main': 'Clouds', 'description': 'scattered clouds', 'icon': '03n'}], 'clouds': {'all': 31}, 'wind': {'speed': 4.03, 'deg': 221, 'gust': 3.83}, 'visibility': 10000, 'pop': 0, 'sys': {'pod': 'n'}, 'dt_txt': '2024-01-29 00:00:00'}, {'dt': 1706497200, 'main': {'temp': 81.25, 'feels_like': 85.62, 'temp_min': 81.25, 'temp_max': 81.25, 'pressure': 1012, 'sea_level': 1012, 'grnd_level': 1012, 'humidity': 73, 'temp_kf': 0}, 'weather': [{'id': 804, 'main': 'Clouds', 'description': 'overcast clouds', 'icon': '04n'}], 'clouds': {'all': 100}, 'wind': {'speed': 3.24, 'deg': 229, 'gust': 2.95}, 'visibility': 10000, 'pop': 0, 'sys': {'pod': 'n'}, 'dt_txt': '2024-01-29 03:00:00'}, {'dt': 1706508000, 'main': {'temp': 81.12, 'feels_like': 85.93, 'temp_min': 81.12, 'temp_max': 81.12, 'pressure': 1013, 'sea_level': 1013, 'grnd_level': 1013, 'humidity': 76, 'temp_kf': 0}, 'weather': [{'id': 804, 'main': 'Clouds', 'description': 'overcast clouds', 'icon': '04n'}], 'clouds': {'all': 85}, 'wind': {'speed': 7.76, 'deg': 214, 'gust': 7.85}, 'visibility': 10000, 'pop': 0, 'sys': {'pod': 'n'}, 'dt_txt': '2024-01-29 06:00:00'}, {'dt': 1706518800, 'main': {'temp': 81.68, 'feels_like': 86.68, 'temp_min': 81.68, 'temp_max': 81.68, 'pressure': 1014, 'sea_level': 1014, 'grnd_level': 1014, 'humidity': 74, 'temp_kf': 0}, 'weather': [{'id': 803, 'main': 'Clouds', 'description': 'broken clouds', 'icon': '04d'}], 'clouds': {'all': 51}, 'wind': {'speed': 9.31, 'deg': 206, 'gust': 9.89}, 'visibility': 10000, 'pop': 0, 'sys': {'pod': 'd'}, 'dt_txt': '2024-01-29 09:00:00'}, {'dt': 1706529600, 'main': {'temp': 82.09, 'feels_like': 87.3, 'temp_min': 82.09, 'temp_max': 82.09, 'pressure': 1013, 'sea_level': 1013, 'grnd_level': 1013, 'humidity': 73, 'temp_kf': 0}, 'weather': [{'id': 802, 'main': 'Clouds', 'description': 'scattered clouds', 'icon': '03d'}], 'clouds': {'all': 44}, 'wind': {'speed': 10.04, 'deg': 202, 'gust': 10.31}, 'visibility': 10000, 'pop': 0, 'sys': {'pod': 'd'}, 'dt_txt': '2024-01-29 12:00:00'}, {'dt': 1706540400, 'main': {'temp': 82.29, 'feels_like': 87.96, 'temp_min': 82.29, 'temp_max': 82.29, 'pressure': 1011, 'sea_level': 1011, 'grnd_level': 1011, 'humidity': 74, 'temp_kf': 0}, 'weather': [{'id': 803, 'main': 'Clouds', 'description': 'broken clouds', 'icon': '04d'}], 'clouds': {'all': 51}, 'wind': {'speed': 11.61, 'deg': 195, 'gust': 11.41}, 'visibility': 10000, 'pop': 0, 'sys': {'pod': 'd'}, 'dt_txt': '2024-01-29 15:00:00'}, {'dt': 1706551200, 'main': {'temp': 82.2, 'feels_like': 87.76, 'temp_min': 82.2, 'temp_max': 82.2, 'pressure': 1012, 'sea_level': 1012, 'grnd_level': 1012, 'humidity': 74, 'temp_kf': 0}, 'weather': [{'id': 803, 'main': 'Clouds', 'description': 'broken clouds', 'icon': '04d'}], 'clouds': {'all': 69}, 'wind': {'speed': 8.12, 'deg': 203, 'gust': 8.05}, 'visibility': 10000, 'pop': 0, 'sys': {'pod': 'd'}, 'dt_txt': '2024-01-29 18:00:00'}, {'dt': 1706562000, 'main': {'temp': 81.91, 'feels_like': 87.15, 'temp_min': 81.91, 'temp_max': 81.91, 'pressure': 1014, 'sea_level': 1014, 'grnd_level': 1014, 'humidity': 74, 'temp_kf': 0}, 'weather': [{'id': 803, 'main': 'Clouds', 'description': 'broken clouds', 'icon': '04n'}], 'clouds': {'all': 79}, 'wind': {'speed': 5.3, 'deg': 214, 'gust': 4.94}, 'visibility': 10000, 'pop': 0, 'sys': {'pod': 'n'}, 'dt_txt': '2024-01-29 21:00:00'}, {'dt': 1706572800, 'main': {'temp': 81.28, 'feels_like': 86.07, 'temp_min': 81.28, 'temp_max': 81.28, 'pressure': 1013, 'sea_level': 1013, 'grnd_level': 1013, 'humidity': 75, 'temp_kf': 0}, 'weather': [{'id': 803, 'main': 'Clouds', 'description': 'broken clouds', 'icon': '04n'}], 'clouds': {'all': 71}, 'wind': {'speed': 3.85, 'deg': 213, 'gust': 3.58}, 'visibility': 10000, 'pop': 0, 'sys': {'pod': 'n'}, 'dt_txt': '2024-01-30 00:00:00'}, {'dt': 1706583600, 'main': {'temp': 80.55, 'feels_like': 84.61, 'temp_min': 80.55, 'temp_max': 80.55, 'pressure': 1012, 'sea_level': 1012, 'grnd_level': 1012, 'humidity': 75, 'temp_kf': 0}, 'weather': [{'id': 801, 'main': 'Clouds', 'description': 'few clouds', 'icon': '02n'}], 'clouds': {'all': 20}, 'wind': {'speed': 2.53, 'deg': 227, 'gust': 2.46}, 'visibility': 10000, 'pop': 0, 'sys': {'pod': 'n'}, 'dt_txt': '2024-01-30 03:00:00'}, {'dt': 1706594400, 'main': {'temp': 80.53, 'feels_like': 84.88, 'temp_min': 80.53, 'temp_max': 80.53, 'pressure': 1012, 'sea_level': 1012, 'grnd_level': 1012, 'humidity': 77, 'temp_kf': 0}, 'weather': [{'id': 801, 'main': 'Clouds', 'description': 'few clouds', 'icon': '02n'}], 'clouds': {'all': 17}, 'wind': {'speed': 5.35, 'deg': 189, 'gust': 4.92}, 'visibility': 10000, 'pop': 0, 'sys': {'pod': 'n'}, 'dt_txt': '2024-01-30 06:00:00'}, {'dt': 1706605200, 'main': {'temp': 81.07, 'feels_like': 85.46, 'temp_min': 81.07, 'temp_max': 81.07, 'pressure': 1013, 'sea_level': 1013, 'grnd_level': 1013, 'humidity': 74, 'temp_kf': 0}, 'weather': [{'id': 801, 'main': 'Clouds', 'description': 'few clouds', 'icon': '02d'}], 'clouds': {'all': 12}, 'wind': {'speed': 6.22, 'deg': 162, 'gust': 6.71}, 'visibility': 10000, 'pop': 0, 'sys': {'pod': 'd'}, 'dt_txt': '2024-01-30 09:00:00'}, {'dt': 1706616000, 'main': {'temp': 81.63, 'feels_like': 86.14, 'temp_min': 81.63, 'temp_max': 81.63, 'pressure': 1013, 'sea_level': 1013, 'grnd_level': 1013, 'humidity': 72, 'temp_kf': 0}, 'weather': [{'id': 802, 'main': 'Clouds', 'description': 'scattered clouds', 'icon': '03d'}], 'clouds': {'all': 28}, 'wind': {'speed': 6.11, 'deg': 185, 'gust': 6.51}, 'visibility': 10000, 'pop': 0, 'sys': {'pod': 'd'}, 'dt_txt': '2024-01-30 12:00:00'}, {'dt': 1706626800, 'main': {'temp': 82.08, 'feels_like': 87.26, 'temp_min': 82.08, 'temp_max': 82.08, 'pressure': 1010, 'sea_level': 1010, 'grnd_level': 1010, 'humidity': 73, 'temp_kf': 0}, 'weather': [{'id': 801, 'main': 'Clouds', 'description': 'few clouds', 'icon': '02d'}], 'clouds': {'all': 11}, 'wind': {'speed': 8.14, 'deg': 191, 'gust': 8.3}, 'visibility': 10000, 'pop': 0, 'sys': {'pod': 'd'}, 'dt_txt': '2024-01-30 15:00:00'}, {'dt': 1706637600, 'main': {'temp': 82.11, 'feels_like': 87.57, 'temp_min': 82.11, 'temp_max': 82.11, 'pressure': 1011, 'sea_level': 1011, 'grnd_level': 1011, 'humidity': 74, 'temp_kf': 0}, 'weather': [{'id': 801, 'main': 'Clouds', 'description': 'few clouds', 'icon': '02d'}], 'clouds': {'all': 17}, 'wind': {'speed': 9.71, 'deg': 194, 'gust': 9.69}, 'visibility': 10000, 'pop': 0, 'sys': {'pod': 'd'}, 'dt_txt': '2024-01-30 18:00:00'}, {'dt': 1706648400, 'main': {'temp': 81.93, 'feels_like': 87.42, 'temp_min': 81.93, 'temp_max': 81.93, 'pressure': 1014, 'sea_level': 1014, 'grnd_level': 1014, 'humidity': 75, 'temp_kf': 0}, 'weather': [{'id': 804, 'main': 'Clouds', 'description': 'overcast clouds', 'icon': '04n'}], 'clouds': {'all': 85}, 'wind': {'speed': 8.19, 'deg': 199, 'gust': 8.32}, 'visibility': 10000, 'pop': 0, 'sys': {'pod': 'n'}, 'dt_txt': '2024-01-30 21:00:00'}, {'dt': 1706659200, 'main': {'temp': 81.63, 'feels_like': 86.77, 'temp_min': 81.63, 'temp_max': 81.63, 'pressure': 1013, 'sea_level': 1013, 'grnd_level': 1013, 'humidity': 75, 'temp_kf': 0}, 'weather': [{'id': 803, 'main': 'Clouds', 'description': 'broken clouds', 'icon': '04n'}], 'clouds': {'all': 78}, 'wind': {'speed': 7.85, 'deg': 214, 'gust': 7.83}, 'visibility': 10000, 'pop': 0, 'sys': {'pod': 'n'}, 'dt_txt': '2024-01-31 00:00:00'}, {'dt': 1706670000, 'main': {'temp': 81.36, 'feels_like': 86.02, 'temp_min': 81.36, 'temp_max': 81.36, 'pressure': 1012, 'sea_level': 1012, 'grnd_level': 1012, 'humidity': 74, 'temp_kf': 0}, 'weather': [{'id': 802, 'main': 'Clouds', 'description': 'scattered clouds', 'icon': '03n'}], 'clouds': {'all': 30}, 'wind': {'speed': 8.3, 'deg': 232, 'gust': 8.28}, 'visibility': 10000, 'pop': 0.04, 'sys': {'pod': 'n'}, 'dt_txt': '2024-01-31 03:00:00'}, {'dt': 1706680800, 'main': {'temp': 81.32, 'feels_like': 85.75, 'temp_min': 81.32, 'temp_max': 81.32, 'pressure': 1013, 'sea_level': 1013, 'grnd_level': 1013, 'humidity': 73, 'temp_kf': 0}, 'weather': [{'id': 802, 'main': 'Clouds', 'description': 'scattered clouds', 'icon': '03n'}], 'clouds': {'all': 33}, 'wind': {'speed': 5.48, 'deg': 228, 'gust': 5.59}, 'visibility': 10000, 'pop': 0.08, 'sys': {'pod': 'n'}, 'dt_txt': '2024-01-31 06:00:00'}, {'dt': 1706691600, 'main': {'temp': 81.68, 'feels_like': 86.9, 'temp_min': 81.68, 'temp_max': 81.68, 'pressure': 1015, 'sea_level': 1015, 'grnd_level': 1015, 'humidity': 75, 'temp_kf': 0}, 'weather': [{'id': 804, 'main': 'Clouds', 'description': 'overcast clouds', 'icon': '04d'}], 'clouds': {'all': 91}, 'wind': {'speed': 9.84, 'deg': 207, 'gust': 10.31}, 'visibility': 10000, 'pop': 0.12, 'sys': {'pod': 'd'}, 'dt_txt': '2024-01-31 09:00:00'}, {'dt': 1706702400, 'main': {'temp': 81.97, 'feels_like': 87.28, 'temp_min': 81.97, 'temp_max': 81.97, 'pressure': 1014, 'sea_level': 1014, 'grnd_level': 1014, 'humidity': 74, 'temp_kf': 0}, 'weather': [{'id': 803, 'main': 'Clouds', 'description': 'broken clouds', 'icon': '04d'}], 'clouds': {'all': 74}, 'wind': {'speed': 11.7, 'deg': 204, 'gust': 11.86}, 'visibility': 10000, 'pop': 0.08, 'sys': {'pod': 'd'}, 'dt_txt': '2024-01-31 12:00:00'}, {'dt': 1706713200, 'main': {'temp': 82.24, 'feels_like': 87.6, 'temp_min': 82.24, 'temp_max': 82.24, 'pressure': 1012, 'sea_level': 1012, 'grnd_level': 1012, 'humidity': 73, 'temp_kf': 0}, 'weather': [{'id': 804, 'main': 'Clouds', 'description': 'overcast clouds', 'icon': '04d'}], 'clouds': {'all': 91}, 'wind': {'speed': 10.2, 'deg': 206, 'gust': 10.31}, 'visibility': 10000, 'pop': 0, 'sys': {'pod': 'd'}, 'dt_txt': '2024-01-31 15:00:00'}, {'dt': 1706724000, 'main': {'temp': 82.31, 'feels_like': 88.25, 'temp_min': 82.31, 'temp_max': 82.31, 'pressure': 1013, 'sea_level': 1013, 'grnd_level': 1013, 'humidity': 75, 'temp_kf': 0}, 'weather': [{'id': 803, 'main': 'Clouds', 'description': 'broken clouds', 'icon': '04d'}], 'clouds': {'all': 76}, 'wind': {'speed': 10.76, 'deg': 205, 'gust': 11.18}, 'visibility': 10000, 'pop': 0, 'sys': {'pod': 'd'}, 'dt_txt': '2024-01-31 18:00:00'}, {'dt': 1706734800, 'main': {'temp': 82, 'feels_like': 87.82, 'temp_min': 82, 'temp_max': 82, 'pressure': 1014, 'sea_level': 1014, 'grnd_level': 1014, 'humidity': 76, 'temp_kf': 0}, 'weather': [{'id': 804, 'main': 'Clouds', 'description': 'overcast clouds', 'icon': '04n'}], 'clouds': {'all': 100}, 'wind': {'speed': 11.3, 'deg': 184, 'gust': 11.43}, 'visibility': 10000, 'pop': 0, 'sys': {'pod': 'n'}, 'dt_txt': '2024-01-31 21:00:00'}, {'dt': 1706745600, 'main': {'temp': 81.46, 'feels_like': 87.08, 'temp_min': 81.46, 'temp_max': 81.46, 'pressure': 1014, 'sea_level': 1014, 'grnd_level': 1014, 'humidity': 78, 'temp_kf': 0}, 'weather': [{'id': 804, 'main': 'Clouds', 'description': 'overcast clouds', 'icon': '04n'}], 'clouds': {'all': 87}, 'wind': {'speed': 10.13, 'deg': 175, 'gust': 10.31}, 'visibility': 10000, 'pop': 0, 'sys': {'pod': 'n'}, 'dt_txt': '2024-02-01 00:00:00'}, {'dt': 1706756400, 'main': {'temp': 81.32, 'feels_like': 86.95, 'temp_min': 81.32, 'temp_max': 81.32, 'pressure': 1012, 'sea_level': 1012, 'grnd_level': 1012, 'humidity': 79, 'temp_kf': 0}, 'weather': [{'id': 801, 'main': 'Clouds', 'description': 'few clouds', 'icon': '02n'}], 'clouds': {'all': 23}, 'wind': {'speed': 8.86, 'deg': 169, 'gust': 8.95}, 'visibility': 10000, 'pop': 0, 'sys': {'pod': 'n'}, 'dt_txt': '2024-02-01 03:00:00'}, {'dt': 1706767200, 'main': {'temp': 81.14, 'feels_like': 86.36, 'temp_min': 81.14, 'temp_max': 81.14, 'pressure': 1013, 'sea_level': 1013, 'grnd_level': 1013, 'humidity': 78, 'temp_kf': 0}, 'weather': [{'id': 801, 'main': 'Clouds', 'description': 'few clouds', 'icon': '02n'}], 'clouds': {'all': 19}, 'wind': {'speed': 5.82, 'deg': 162, 'gust': 6.08}, 'visibility': 10000, 'pop': 0.08, 'sys': {'pod': 'n'}, 'dt_txt': '2024-02-01 06:00:00'}, {'dt': 1706778000, 'main': {'temp': 81.55, 'feels_like': 87.06, 'temp_min': 81.55, 'temp_max': 81.55, 'pressure': 1014, 'sea_level': 1014, 'grnd_level': 1014, 'humidity': 77, 'temp_kf': 0}, 'weather': [{'id': 803, 'main': 'Clouds', 'description': 'broken clouds', 'icon': '04d'}], 'clouds': {'all': 68}, 'wind': {'speed': 7.87, 'deg': 152, 'gust': 8.3}, 'visibility': 10000, 'pop': 0.4, 'sys': {'pod': 'd'}, 'dt_txt': '2024-02-01 09:00:00'}, {'dt': 1706788800, 'main': {'temp': 82.33, 'feels_like': 88.79, 'temp_min': 82.33, 'temp_max': 82.33, 'pressure': 1013, 'sea_level': 1013, 'grnd_level': 1013, 'humidity': 77, 'temp_kf': 0}, 'weather': [{'id': 803, 'main': 'Clouds', 'description': 'broken clouds', 'icon': '04d'}], 'clouds': {'all': 55}, 'wind': {'speed': 11.48, 'deg': 183, 'gust': 11.41}, 'visibility': 10000, 'pop': 0.24, 'sys': {'pod': 'd'}, 'dt_txt': '2024-02-01 12:00:00'}, {'dt': 1706799600, 'main': {'temp': 82.36, 'feels_like': 88.88, 'temp_min': 82.36, 'temp_max': 82.36, 'pressure': 1011, 'sea_level': 1011, 'grnd_level': 1011, 'humidity': 77, 'temp_kf': 0}, 'weather': [{'id': 803, 'main': 'Clouds', 'description': 'broken clouds', 'icon': '04d'}], 'clouds': {'all': 59}, 'wind': {'speed': 12.39, 'deg': 194, 'gust': 12.33}, 'visibility': 10000, 'pop': 0, 'sys': {'pod': 'd'}, 'dt_txt': '2024-02-01 15:00:00'}], 'city': {'id': 6295630, 'name': 'Globe', 'coord': {}, 'country': '', 'population': 2147483647, 'timezone': 0, 'sunrise': 1706335739, 'sunset': 1706379359}}\n"
     ]
    }
   ],
   "source": [
    "url = f\"https://api.openweathermap.org/data/2.5/forecast?lat=0&lon=0&appid={OPENWEATHER_API_KEY}&units=imperial\"\n",
    "api_df = di.load_from_api(url=url)\n",
    "print(api_df)"
   ]
  },
  {
   "cell_type": "code",
   "execution_count": null,
   "metadata": {},
   "outputs": [],
   "source": []
  }
 ],
 "metadata": {
  "kernelspec": {
   "display_name": "Python 3",
   "language": "python",
   "name": "python3"
  },
  "language_info": {
   "codemirror_mode": {
    "name": "ipython",
    "version": 3
   },
   "file_extension": ".py",
   "mimetype": "text/x-python",
   "name": "python",
   "nbconvert_exporter": "python",
   "pygments_lexer": "ipython3",
   "version": "3.10.12"
  }
 },
 "nbformat": 4,
 "nbformat_minor": 2
}
